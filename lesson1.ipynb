{
 "cells": [
  {
   "cell_type": "markdown",
   "id": "a0342b17",
   "metadata": {},
   "source": [
    "## Условие 2"
   ]
  },
  {
   "cell_type": "code",
   "execution_count": 2,
   "id": "b854f437",
   "metadata": {},
   "outputs": [],
   "source": [
    "def total_fruit_count(**fruits):\n",
    "    total_count = 0\n",
    "    for count in fruits.values():\n",
    "        total_count += count\n",
    "    return total_count\n",
    "total = total_fruit_count(apples=10, bananas=5, oranges=20)\n",
    "print(total) # выведет 35"
   ]
  },
  {
   "cell_type": "markdown",
   "id": "8ec5276e",
   "metadata": {},
   "source": [
    "## Условие 3"
   ]
  },
  {
   "cell_type": "code",
   "execution_count": 4,
   "id": "e6f15176",
   "metadata": {},
   "outputs": [
    {
     "name": "stdout",
     "output_type": "stream",
     "text": [
      "1425\n"
     ]
    }
   ],
   "source": [
    "ad_costs = [100, 125, -90, 345, 655, -1, 0, 200]\n",
    "\n",
    "# Используем list comprehension для удаления отрицательных значений\n",
    "ad_costs = [cost for cost in ad_costs if cost >= 0]\n",
    "\n",
    "# Вычисляем сумму затрат\n",
    "total_costs = sum(ad_costs)\n",
    "\n",
    "# Выводим результат\n",
    "print(total_costs) # выведет 1425\n"
   ]
  },
  {
   "cell_type": "markdown",
   "id": "2b4ff661",
   "metadata": {},
   "source": [
    "### Условие 4.1"
   ]
  },
  {
   "cell_type": "code",
   "execution_count": 5,
   "id": "049aa881",
   "metadata": {},
   "outputs": [
    {
     "name": "stdout",
     "output_type": "stream",
     "text": [
      "25098\n"
     ]
    }
   ],
   "source": [
    "purchase_date = ['2021-09-14', '2021-12-15', '2021-09-08', '2021-12-05', '2021-10-09', '2021-09-30', '2021-12-22', '2021-11-29', '2021-12-24', '2021-11-26', '2021-10-27', '2021-12-18', '2021-11-09', '2021-11-23', '2021-09-27', '2021-10-02', '2021-12-27', '2021-09-20', '2021-12-13', '2021-11-01', '2021-11-09', '2021-12-06', '2021-12-08', '2021-10-09', '2021-10-31', '2021-09-30', '2021-11-09', '2021-12-13', '2021-10-26', '2021-12-09']\n",
    "purchase_sum = [1270, 8413, 9028, 3703, 5739, 4095, 295, 4944, 5723, 3701, 4471, 651, 7037, 4274, 6275, 4988, 6930, 2971, 6592, 2004, 2822, 519, 3406, 2732, 5015, 2008, 316, 6333, 5700, 2887]\n",
    "\n",
    "# Создаем список, содержащий даты в ноябре\n",
    "nov_dates = [date for date in purchase_date if '2021-11' in date]\n",
    "\n",
    "# Создаем список, содержащий суммы покупок, совершенных в ноябре\n",
    "nov_sums = [purchase_sum[i] for i in range(len(purchase_sum)) if '2021-11' in purchase_date[i]]\n",
    "\n",
    "# Вычисляем сумму покупок, совершенных в ноябре\n",
    "nov_total = sum(nov_sums)\n",
    "\n",
    "# Выводим результат\n",
    "print(nov_total) # выведет 25368\n"
   ]
  },
  {
   "cell_type": "markdown",
   "id": "9bcdd704",
   "metadata": {},
   "source": [
    "### Условие 4.2"
   ]
  },
  {
   "cell_type": "code",
   "execution_count": 7,
   "id": "1365e993",
   "metadata": {},
   "outputs": [],
   "source": [
    "from datetime import datetime\n",
    "\n",
    "def revenue_by_month(dates: list[str], revenue: list[float]) -> dict[str, float]:\n",
    "    revenue_by_month_dict = {}\n",
    "    for date, revenue in zip(dates, revenue):\n",
    "        month = datetime.strptime(date, '%Y-%m-%d').strftime('%m.%Y')\n",
    "        revenue_by_month_dict[month] = revenue_by_month_dict.get(month, 0) + revenue\n",
    "    return revenue_by_month_dict\n"
   ]
  }
 ],
 "metadata": {
  "kernelspec": {
   "display_name": "Python 3 (ipykernel)",
   "language": "python",
   "name": "python3"
  },
  "language_info": {
   "codemirror_mode": {
    "name": "ipython",
    "version": 3
   },
   "file_extension": ".py",
   "mimetype": "text/x-python",
   "name": "python",
   "nbconvert_exporter": "python",
   "pygments_lexer": "ipython3",
   "version": "3.11.1"
  }
 },
 "nbformat": 4,
 "nbformat_minor": 5
}
